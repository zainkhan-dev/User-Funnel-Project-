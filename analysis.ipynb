{
 "cells": [
  {
   "cell_type": "code",
   "execution_count": null,
   "id": "92816910",
   "metadata": {},
   "outputs": [],
   "source": [
    "import sqlite3\n",
    "import pandas as pd\n",
    "import matplotlib.pyplot as plt\n",
    "import seaborn as sns\n",
    "from scipy.stats import chi2_contingency\n",
    "\n",
    "conn = sqlite3.connect(\"fitness_app.db\")"
   ]
  },
  {
   "cell_type": "code",
   "execution_count": null,
   "id": "1138d8af",
   "metadata": {},
   "outputs": [],
   "source": [
    "import os\n",
    "\n",
    "os.makedirs(\"plots\", exist_ok=True)"
   ]
  },
  {
   "cell_type": "code",
   "execution_count": null,
   "id": "205fc34d",
   "metadata": {},
   "outputs": [],
   "source": [
    "funnel_query = \"\"\"\n",
    "WITH step1 AS (\n",
    "    SELECT DISTINCT user_id\n",
    "    FROM events\n",
    "    WHERE event_type = 'account_created'\n",
    "),\n",
    "step2 AS (\n",
    "    SELECT DISTINCT e.user_id\n",
    "    FROM events e\n",
    "    JOIN step1 s ON e.user_id = s.user_id\n",
    "    WHERE e.event_type = 'profile_setup'\n",
    "),\n",
    "step3 AS (\n",
    "    SELECT DISTINCT e.user_id\n",
    "    FROM events e\n",
    "    JOIN step2 s ON e.user_id = s.user_id\n",
    "    WHERE e.event_type = 'first_workout'\n",
    "),\n",
    "step4 AS (\n",
    "    SELECT DISTINCT e.user_id\n",
    "    FROM events e\n",
    "    JOIN step3 s ON e.user_id = s.user_id\n",
    "    WHERE e.event_type = 'week1_return'\n",
    ")\n",
    "SELECT\n",
    "   (SELECT COUNT(*) FROM step1) AS account_created,\n",
    "   (SELECT COUNT(*) FROM step2) AS profile_setup,\n",
    "   (SELECT COUNT(*) FROM step3) AS first_workout,\n",
    "   (SELECT COUNT(*) FROM step4) AS week1_return;\n",
    "\"\"\"\n",
    "\n",
    "funnel_df = pd.read_sql(funnel_query, conn).T.reset_index()\n",
    "funnel_df.columns = [\"event_type\", \"users\"]"
   ]
  },
  {
   "cell_type": "markdown",
   "id": "9bf61011",
   "metadata": {},
   "source": [
    "Drop-Off Calculations"
   ]
  },
  {
   "cell_type": "code",
   "execution_count": null,
   "id": "6c5be022",
   "metadata": {},
   "outputs": [],
   "source": [
    "funnel_df[\"previous_stage\"] = funnel_df[\"users\"].shift(1)\n",
    "funnel_df[\"drop_off_users\"] = funnel_df[\"previous_stage\"] - funnel_df[\"users\"]\n",
    "funnel_df[\"drop_off_percent\"] = (funnel_df[\"drop_off_users\"] / funnel_df[\"previous_stage\"] * 100).round(2)\n",
    "funnel_df.fillna(0, inplace=True)\n",
    "\n",
    "print(funnel_df)"
   ]
  },
  {
   "cell_type": "markdown",
   "id": "2c3cd80c",
   "metadata": {},
   "source": [
    "Funnel Visualization"
   ]
  },
  {
   "cell_type": "code",
   "execution_count": null,
   "id": "b8b5b7e0",
   "metadata": {},
   "outputs": [],
   "source": [
    "plt.figure(figsize=(8, 5))\n",
    "sns.barplot(x=\"users\", y=\"event_type\", data=funnel_df, palette=\"Blues_d\")\n",
    "\n",
    "for i, (users, drop) in enumerate(zip(funnel_df[\"users\"], funnel_df[\"drop_off_percent\"])):\n",
    "    if i > 0:\n",
    "        plt.text(users, i, f\"{drop:.1f}%\", va=\"center\", ha=\"left\", fontsize=10, color=\"red\")\n",
    "\n",
    "plt.title(\"User Funnel with Drop-Offs\")\n",
    "plt.xlabel(\"Number of Users\")\n",
    "plt.ylabel(\"Stage\")\n",
    "plt.savefig(\"plots/funnel_chart.png\", dpi=300, bbox_inches=\"tight\")\n",
    "plt.show()"
   ]
  },
  {
   "cell_type": "markdown",
   "id": "3a161590",
   "metadata": {},
   "source": [
    "Segment Analysis"
   ]
  },
  {
   "cell_type": "code",
   "execution_count": null,
   "id": "6c955a9b",
   "metadata": {},
   "outputs": [],
   "source": [
    "segment_query = \"\"\"\n",
    "WITH step1 AS (\n",
    "    SELECT DISTINCT user_id, acquisition_channel\n",
    "    FROM events\n",
    "    JOIN users USING(user_id)\n",
    "    WHERE event_type = 'account_created'\n",
    "),\n",
    "step2 AS (\n",
    "    SELECT DISTINCT e.user_id, u.acquisition_channel\n",
    "    FROM events e\n",
    "    JOIN step1 u ON e.user_id = u.user_id\n",
    "    WHERE e.event_type = 'profile_setup'\n",
    "),\n",
    "step3 AS (\n",
    "    SELECT DISTINCT e.user_id, u.acquisition_channel\n",
    "    FROM events e\n",
    "    JOIN step2 u ON e.user_id = u.user_id\n",
    "    WHERE e.event_type = 'first_workout'\n",
    "),\n",
    "step4 AS (\n",
    "    SELECT DISTINCT e.user_id, u.acquisition_channel\n",
    "    FROM events e\n",
    "    JOIN step3 u ON e.user_id = u.user_id\n",
    "    WHERE e.event_type = 'week1_return'\n",
    ")\n",
    "SELECT\n",
    "    acquisition_channel,\n",
    "    (SELECT COUNT(*) FROM step1 s WHERE s.acquisition_channel = u.acquisition_channel) AS account_created,\n",
    "    (SELECT COUNT(*) FROM step2 s WHERE s.acquisition_channel = u.acquisition_channel) AS profile_setup,\n",
    "    (SELECT COUNT(*) FROM step3 s WHERE s.acquisition_channel = u.acquisition_channel) AS first_workout,\n",
    "    (SELECT COUNT(*) FROM step4 s WHERE s.acquisition_channel = u.acquisition_channel) AS week1_return\n",
    "FROM step1 u\n",
    "GROUP BY acquisition_channel;\n",
    "\"\"\"\n",
    "\n",
    "segment_df = pd.read_sql(segment_query, conn)\n",
    "print(segment_df.head())"
   ]
  },
  {
   "cell_type": "markdown",
   "id": "12e3f2ef",
   "metadata": {},
   "source": [
    "Cohort Retention"
   ]
  },
  {
   "cell_type": "code",
   "execution_count": null,
   "id": "5cad0c25",
   "metadata": {},
   "outputs": [],
   "source": [
    "cohort_query = \"\"\"\n",
    "WITH UserCohorts AS (\n",
    "    SELECT\n",
    "        user_id,\n",
    "        MIN(event_timestamp) as cohort_date\n",
    "    FROM events\n",
    "    WHERE event_type = 'account_created'\n",
    "    GROUP BY user_id\n",
    "),\n",
    "ActivityByMonth AS (\n",
    "    SELECT\n",
    "        T1.user_id,\n",
    "        STRFTIME('%Y-%m', T1.cohort_date) as cohort_month,\n",
    "        (STRFTIME('%Y', T2.event_timestamp) - STRFTIME('%Y', T1.cohort_date)) * 12 +\n",
    "        (STRFTIME('%m', T2.event_timestamp) - STRFTIME('%m', T1.cohort_date)) AS retention_month\n",
    "    FROM UserCohorts AS T1\n",
    "    JOIN events AS T2 ON T1.user_id = T2.user_id\n",
    ")\n",
    "SELECT\n",
    "    cohort_month,\n",
    "    retention_month,\n",
    "    COUNT(DISTINCT user_id) as users\n",
    "FROM ActivityByMonth\n",
    "GROUP BY cohort_month, retention_month\n",
    "ORDER BY cohort_month, retention_month;\n",
    "\"\"\"\n",
    "\n",
    "cohort_df = pd.read_sql(cohort_query, conn)\n",
    "print(cohort_df.head())"
   ]
  },
  {
   "cell_type": "code",
   "execution_count": null,
   "id": "1f28fa73",
   "metadata": {},
   "outputs": [],
   "source": [
    "query = \"\"\"\n",
    "WITH UserCohorts AS (\n",
    "    SELECT\n",
    "        user_id,\n",
    "        MIN(event_timestamp) as cohort_date\n",
    "    FROM events\n",
    "    GROUP BY user_id\n",
    "),\n",
    "ActivityByMonth AS (\n",
    "    SELECT\n",
    "        T1.user_id,\n",
    "        STRFTIME('%Y-%m', T1.cohort_date) as cohort_month,\n",
    "        (STRFTIME('%Y', T2.event_timestamp) - STRFTIME('%Y', T1.cohort_date)) * 12 +\n",
    "        (STRFTIME('%m', T2.event_timestamp) - STRFTIME('%m', T1.cohort_date)) AS retention_period_months\n",
    "    FROM UserCohorts AS T1\n",
    "    JOIN events AS T2 ON T1.user_id = T2.user_id\n",
    "),\n",
    "AggregatedData AS (\n",
    "    SELECT\n",
    "        cohort_month,\n",
    "        retention_period_months,\n",
    "        COUNT(DISTINCT user_id) as users\n",
    "    FROM ActivityByMonth\n",
    "    GROUP BY cohort_month, retention_period_months\n",
    ")\n",
    "SELECT\n",
    "    cohort_month,\n",
    "    retention_period_months,\n",
    "    users,\n",
    "    MAX(users) OVER (PARTITION BY cohort_month) AS total_cohort_users,\n",
    "    ROUND(100.0 * users / MAX(users) OVER (PARTITION BY cohort_month), 2) AS retention_rate\n",
    "FROM AggregatedData\n",
    "ORDER BY cohort_month, retention_period_months;\n",
    "\"\"\"\n",
    "cohort_df = pd.read_sql(query, conn)\n",
    "cohort_df.head()"
   ]
  },
  {
   "cell_type": "code",
   "execution_count": null,
   "id": "4fa67e79",
   "metadata": {},
   "outputs": [],
   "source": [
    "plt.figure(figsize=(10, 6))\n",
    "sns.lineplot(\n",
    "    data=cohort_df,\n",
    "    x=\"retention_period_months\",\n",
    "    y=\"retention_rate\",\n",
    "    hue=\"cohort_month\",\n",
    "    marker=\"o\"\n",
    ")\n",
    "plt.title(\"Cohort Retention Over Time (%)\", fontsize=14)\n",
    "plt.xlabel(\"Months Since Signup\")\n",
    "plt.ylabel(\"Retention Rate (%)\")\n",
    "plt.legend(title=\"Cohort Month\", bbox_to_anchor=(1.05, 1), loc=\"upper left\")\n",
    "plt.grid(alpha=0.3)\n",
    "plt.savefig(\"plots/cohort_retention_line.png\", dpi=300, bbox_inches=\"tight\")\n",
    "plt.show()\n"
   ]
  },
  {
   "cell_type": "code",
   "execution_count": null,
   "id": "bb7d73d0",
   "metadata": {},
   "outputs": [],
   "source": [
    "plt.figure(figsize=(10, 6))\n",
    "\n",
    "for cohort, group in cohort_df.groupby(\"cohort_month\"):\n",
    "    plt.fill_between(group[\"retention_period_months\"], group[\"users\"], alpha=0.3)\n",
    "    plt.plot(group[\"retention_period_months\"], group[\"users\"], marker=\"o\", label=cohort)\n",
    "\n",
    "plt.title(\"Cohort Retention (Area Curves)\", fontsize=14)\n",
    "plt.xlabel(\"Months Since Signup\")\n",
    "plt.ylabel(\"Users Retained\")\n",
    "plt.legend(title=\"Cohort Month\", bbox_to_anchor=(1.05, 1), loc=\"upper left\")\n",
    "\n",
    "plt.savefig(\"plots/cohort_retention_area.png\", dpi=300, bbox_inches=\"tight\")\n",
    "plt.show()"
   ]
  },
  {
   "cell_type": "markdown",
   "id": "ea69f2c5",
   "metadata": {},
   "source": [
    "Statistical Analysis"
   ]
  },
  {
   "cell_type": "code",
   "execution_count": null,
   "id": "2f8baca7",
   "metadata": {},
   "outputs": [],
   "source": [
    "contingency = []\n",
    "for i in range(1, len(funnel_df)):\n",
    "    success = funnel_df.loc[i, \"users\"]\n",
    "    fail = funnel_df.loc[i-1, \"users\"] - success\n",
    "    contingency.append([success, fail])\n",
    "\n",
    "chi2, p, dof, expected = chi2_contingency(contingency)\n",
    "\n",
    "print(\"Chi-Square Test Statistic:\", chi2)\n",
    "print(\"p-value:\", p)"
   ]
  }
 ],
 "metadata": {
  "kernelspec": {
   "display_name": "Python 3",
   "language": "python",
   "name": "python3"
  },
  "language_info": {
   "codemirror_mode": {
    "name": "ipython",
    "version": 3
   },
   "file_extension": ".py",
   "mimetype": "text/x-python",
   "name": "python",
   "nbconvert_exporter": "python",
   "pygments_lexer": "ipython3",
   "version": "3.11.9"
  }
 },
 "nbformat": 4,
 "nbformat_minor": 5
}
